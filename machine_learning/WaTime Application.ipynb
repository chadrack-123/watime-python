{
 "cells": [
  {
   "cell_type": "markdown",
   "id": "aaa7feac-d717-408e-b5ab-93a27a5d9ac6",
   "metadata": {},
   "source": [
    "# Irrigation Predictor Modeling"
   ]
  },
  {
   "cell_type": "markdown",
   "id": "5b158e33-48b3-41e7-8125-be2fa2005e02",
   "metadata": {},
   "source": [
    "#### The model utilizes weather features of Johannesburg to predict soil moisture for the system to either irrigate or not to."
   ]
  },
  {
   "cell_type": "code",
   "execution_count": 1,
   "id": "fd42a159-d72b-4169-8163-42aecc19791d",
   "metadata": {},
   "outputs": [],
   "source": [
    "import pandas as pd \n",
    "import numpy as np \n",
    "from sklearn.linear_model import LinearRegression, Ridge, Lasso\n",
    "from sklearn.tree import DecisionTreeRegressor\n",
    "from sklearn.ensemble import RandomForestRegressor, GradientBoostingRegressor\n",
    "from xgboost import XGBRegressor\n",
    "from sklearn.svm import SVR\n",
    "from sklearn.neural_network import MLPRegressor\n",
    "from sklearn.neighbors import KNeighborsRegressor\n",
    "from sklearn.model_selection import train_test_split\n",
    "from sklearn.metrics import mean_squared_error, mean_absolute_error, r2_score\n",
    "import matplotlib.pyplot as plt\n",
    "import seaborn as sns \n",
    "%matplotlib inline"
   ]
  },
  {
   "cell_type": "code",
   "execution_count": null,
   "id": "c976d336-dd7e-469b-8c73-a9d6dba55c09",
   "metadata": {},
   "outputs": [],
   "source": [
    "df = pd.read_csv('New_Dataset.csv', sep=',')\n",
    "df.head()"
   ]
  },
  {
   "cell_type": "markdown",
   "id": "395ef4a5-4df6-4688-8163-abcbf844eadb",
   "metadata": {},
   "source": [
    "### Data Exploration"
   ]
  },
  {
   "cell_type": "code",
   "execution_count": null,
   "id": "29e56c88-9141-4a78-99d5-d48262ee7d9e",
   "metadata": {},
   "outputs": [],
   "source": [
    "df.shape"
   ]
  },
  {
   "cell_type": "code",
   "execution_count": null,
   "id": "0f3ada02-a3a1-4cc9-9ceb-536308c5ab17",
   "metadata": {},
   "outputs": [],
   "source": [
    "df.dtypes"
   ]
  },
  {
   "cell_type": "code",
   "execution_count": null,
   "id": "a4be46b1-a0ee-4563-b410-3668982369c5",
   "metadata": {},
   "outputs": [],
   "source": [
    "df.drop(['time', 'snow_depth (m)', 'et0_fao_evapotranspiration (mm)', 'precipitation (mm)',\n",
    "       'soil_temperature_0_to_7cm (°C)', 'soil_temperature_7_to_28cm (°C)',\n",
    "       'soil_temperature_28_to_100cm (°C)', 'soil_moisture_0_to_7cm (m³/m³)'], axis=1, inplace=True)"
   ]
  },
  {
   "cell_type": "code",
   "execution_count": null,
   "id": "61c34635-7709-4e9a-b823-d72dd61abbf4",
   "metadata": {},
   "outputs": [],
   "source": [
    "df.head()"
   ]
  },
  {
   "cell_type": "markdown",
   "id": "c4aadc95-7d2a-425c-a0a9-94c4ccea5da3",
   "metadata": {},
   "source": [
    "#### Convert units of measurement of snowfall, wind speed & wind gust\n",
    "##### 1. snowfall: cm - mm\n",
    "##### 2. wind speed: km/h - m/s\n",
    "##### 3. wind direction: km/h - m/s"
   ]
  },
  {
   "cell_type": "code",
   "execution_count": null,
   "id": "e063affa-f34f-41b7-be1a-96bfe52644f0",
   "metadata": {},
   "outputs": [],
   "source": [
    "# snowfall conversion\n",
    "df['snowfall(mm)'] = df['snowfall (cm)'] * 10\n",
    "\n",
    "#wind speed conversion\n",
    "df['wind_speed(m/s)'] = df['wind_speed_10m (km/h)'] * 3.6\n",
    "\n",
    "#wind gust conversion\n",
    "df['wind_gust(m/s)'] = df['wind_gusts_10m (km/h)'] * 3.6"
   ]
  },
  {
   "cell_type": "code",
   "execution_count": null,
   "id": "828c5a5d-2c76-4321-ad0d-96d6693190e6",
   "metadata": {},
   "outputs": [],
   "source": [
    "df.drop(['wind_gusts_10m (km/h)', 'snowfall (cm)', 'wind_speed_10m (km/h)'], axis=1, inplace=True)"
   ]
  },
  {
   "cell_type": "code",
   "execution_count": null,
   "id": "f10efa08-3010-4447-a7f1-50c564c69dfe",
   "metadata": {},
   "outputs": [],
   "source": [
    "rename_column = {'soil_moisture_7_to_28cm (m³/m³)': 'soil_moisture'}\n",
    "\n",
    "df.rename(columns=rename_column, inplace=True)"
   ]
  },
  {
   "cell_type": "code",
   "execution_count": null,
   "id": "db512bba-e401-415d-bfce-b285d0caa5ba",
   "metadata": {},
   "outputs": [],
   "source": [
    "last_column = df.pop('soil_moisture')\n",
    " \n",
    "df.insert(df.shape[1], 'soil_moisture', last_column)"
   ]
  },
  {
   "cell_type": "code",
   "execution_count": null,
   "id": "28c71495-429e-4223-ae60-14aceeb0714e",
   "metadata": {},
   "outputs": [],
   "source": [
    "df.head()"
   ]
  },
  {
   "cell_type": "code",
   "execution_count": null,
   "id": "fbc498e9-b76b-4f43-b1ae-ca99dbe5e8c4",
   "metadata": {},
   "outputs": [],
   "source": [
    "column = df['soil_moisture']\n",
    "print(f'The minimum value of soil moisture is {column.min()}')\n",
    "print(f'The maximum value of soil moisture is {column.max()}')\n",
    "print(f'The average value of soil moisture is {column.mean()}')\n",
    "print(f'The median value of soil moisture is {column.median()}')"
   ]
  },
  {
   "cell_type": "code",
   "execution_count": null,
   "id": "f34761ec-a8cc-4c77-bd72-5b64c1d78010",
   "metadata": {},
   "outputs": [],
   "source": [
    "df['soil_moisture'] = df['soil_moisture'] * 100"
   ]
  },
  {
   "cell_type": "code",
   "execution_count": null,
   "id": "7f6a709c-3abf-49bb-982f-5b021095beba",
   "metadata": {},
   "outputs": [],
   "source": [
    "column = df['soil_moisture']\n",
    "print(f'The minimum value of soil moisture is {column.min()}')\n",
    "print(f'The maximum value of soil moisture is {column.max()}')\n",
    "print(f'The average value of soil moisture is {column.mean()}')\n",
    "print(f'The median value of soil moisture is {column.median()}')"
   ]
  },
  {
   "cell_type": "code",
   "execution_count": null,
   "id": "4ea4d3d4-6524-4d64-a3ad-738ae82deea1",
   "metadata": {},
   "outputs": [],
   "source": [
    "from IPython.display import Image \n",
    "\n",
    "Image(url=\"Soil Moisture Predictor.png\", width=600, height=400) \r\n"
   ]
  },
  {
   "cell_type": "code",
   "execution_count": null,
   "id": "e112d592-89f2-4bcd-ae72-62222457ab3c",
   "metadata": {},
   "outputs": [],
   "source": [
    "df.isnull().sum()"
   ]
  },
  {
   "cell_type": "code",
   "execution_count": null,
   "id": "97f039ff-b4d9-488c-8194-3f78f67bd1d9",
   "metadata": {},
   "outputs": [],
   "source": [
    "df.describe()"
   ]
  },
  {
   "cell_type": "markdown",
   "id": "d0521304-bd4d-4abe-8003-2ca086de2fa8",
   "metadata": {},
   "source": [
    "### Visualization"
   ]
  },
  {
   "cell_type": "code",
   "execution_count": null,
   "id": "18630b90-1f5f-4bee-9625-12760dde22bf",
   "metadata": {},
   "outputs": [],
   "source": [
    "df.shape"
   ]
  },
  {
   "cell_type": "code",
   "execution_count": null,
   "id": "a603fcad-2669-41c2-b025-9d891c0c330f",
   "metadata": {},
   "outputs": [],
   "source": [
    "df.columns"
   ]
  },
  {
   "cell_type": "code",
   "execution_count": 2,
   "id": "a94e4bc5-6a56-4bac-b1a2-544c9e6e67d8",
   "metadata": {},
   "outputs": [
    {
     "data": {
      "text/html": [
       "<div>\n",
       "<style scoped>\n",
       "    .dataframe tbody tr th:only-of-type {\n",
       "        vertical-align: middle;\n",
       "    }\n",
       "\n",
       "    .dataframe tbody tr th {\n",
       "        vertical-align: top;\n",
       "    }\n",
       "\n",
       "    .dataframe thead th {\n",
       "        text-align: right;\n",
       "    }\n",
       "</style>\n",
       "<table border=\"1\" class=\"dataframe\">\n",
       "  <thead>\n",
       "    <tr style=\"text-align: right;\">\n",
       "      <th></th>\n",
       "      <th>temperature_2m (°C)</th>\n",
       "      <th>relative_humidity_2m (%)</th>\n",
       "      <th>rain (mm)</th>\n",
       "      <th>surface_pressure (hPa)</th>\n",
       "      <th>cloud_cover (%)</th>\n",
       "      <th>wind_direction_10m (°)</th>\n",
       "      <th>snowfall(mm)</th>\n",
       "      <th>wind_speed(m/s)</th>\n",
       "      <th>wind_gust(m/s)</th>\n",
       "      <th>soil_moisture</th>\n",
       "    </tr>\n",
       "  </thead>\n",
       "  <tbody>\n",
       "    <tr>\n",
       "      <th>0</th>\n",
       "      <td>-2.3</td>\n",
       "      <td>86</td>\n",
       "      <td>0.0</td>\n",
       "      <td>992.7</td>\n",
       "      <td>100</td>\n",
       "      <td>70</td>\n",
       "      <td>1.4</td>\n",
       "      <td>64.80</td>\n",
       "      <td>121.68</td>\n",
       "      <td>37.7</td>\n",
       "    </tr>\n",
       "    <tr>\n",
       "      <th>1</th>\n",
       "      <td>-2.5</td>\n",
       "      <td>87</td>\n",
       "      <td>0.0</td>\n",
       "      <td>992.5</td>\n",
       "      <td>100</td>\n",
       "      <td>66</td>\n",
       "      <td>2.1</td>\n",
       "      <td>56.88</td>\n",
       "      <td>120.60</td>\n",
       "      <td>37.7</td>\n",
       "    </tr>\n",
       "    <tr>\n",
       "      <th>2</th>\n",
       "      <td>-2.6</td>\n",
       "      <td>87</td>\n",
       "      <td>0.0</td>\n",
       "      <td>992.4</td>\n",
       "      <td>100</td>\n",
       "      <td>56</td>\n",
       "      <td>2.8</td>\n",
       "      <td>53.28</td>\n",
       "      <td>112.68</td>\n",
       "      <td>37.7</td>\n",
       "    </tr>\n",
       "    <tr>\n",
       "      <th>3</th>\n",
       "      <td>-2.6</td>\n",
       "      <td>88</td>\n",
       "      <td>0.0</td>\n",
       "      <td>992.1</td>\n",
       "      <td>100</td>\n",
       "      <td>54</td>\n",
       "      <td>3.5</td>\n",
       "      <td>57.60</td>\n",
       "      <td>108.72</td>\n",
       "      <td>37.7</td>\n",
       "    </tr>\n",
       "    <tr>\n",
       "      <th>4</th>\n",
       "      <td>-2.7</td>\n",
       "      <td>88</td>\n",
       "      <td>0.0</td>\n",
       "      <td>991.6</td>\n",
       "      <td>100</td>\n",
       "      <td>55</td>\n",
       "      <td>3.5</td>\n",
       "      <td>58.68</td>\n",
       "      <td>108.72</td>\n",
       "      <td>37.7</td>\n",
       "    </tr>\n",
       "  </tbody>\n",
       "</table>\n",
       "</div>"
      ],
      "text/plain": [
       "   temperature_2m (°C)  relative_humidity_2m (%)  rain (mm)  \\\n",
       "0                 -2.3                        86        0.0   \n",
       "1                 -2.5                        87        0.0   \n",
       "2                 -2.6                        87        0.0   \n",
       "3                 -2.6                        88        0.0   \n",
       "4                 -2.7                        88        0.0   \n",
       "\n",
       "   surface_pressure (hPa)  cloud_cover (%)  wind_direction_10m (°)  \\\n",
       "0                   992.7              100                      70   \n",
       "1                   992.5              100                      66   \n",
       "2                   992.4              100                      56   \n",
       "3                   992.1              100                      54   \n",
       "4                   991.6              100                      55   \n",
       "\n",
       "   snowfall(mm)  wind_speed(m/s)  wind_gust(m/s)  soil_moisture  \n",
       "0           1.4            64.80          121.68           37.7  \n",
       "1           2.1            56.88          120.60           37.7  \n",
       "2           2.8            53.28          112.68           37.7  \n",
       "3           3.5            57.60          108.72           37.7  \n",
       "4           3.5            58.68          108.72           37.7  "
      ]
     },
     "execution_count": 2,
     "metadata": {},
     "output_type": "execute_result"
    }
   ],
   "source": [
    "df = pd.read_csv('dataset/WaTime_Dataset.csv')\n",
    "df.head()"
   ]
  },
  {
   "cell_type": "code",
   "execution_count": 3,
   "id": "2e258161-eca1-4d7b-a39d-61d2698de663",
   "metadata": {},
   "outputs": [
    {
     "name": "stdout",
     "output_type": "stream",
     "text": [
      "['temperature_2m (°C)', 'relative_humidity_2m (%)', 'rain (mm)', 'surface_pressure (hPa)', 'cloud_cover (%)', 'wind_direction_10m (°)', 'snowfall(mm)', 'wind_speed(m/s)', 'wind_gust(m/s)']\n"
     ]
    }
   ],
   "source": [
    "X = df.drop('soil_moisture',axis=1)\n",
    "y = np.array(df['soil_moisture'])\n",
    "\n",
    "feature_list = list(X.columns)\n",
    "print(feature_list)\n",
    "# mean_value_temperature = df['temperature_2m (°C)'].mean()\n",
    "# mean_value_soilMoisture = df['soil_moisture'].mean()\n",
    "# plt.figure(figsize=(8,6))\n",
    "# plt.title('Values of Temperature vs. Soil Moisture')\n",
    "# plt.scatter('temperature_2m (°C)', 'soil_moisture', data=df)\n",
    "# plt.xlabel('Soil Moisture')\n",
    "# plt.ylabel('Temperature')"
   ]
  },
  {
   "cell_type": "code",
   "execution_count": 4,
   "id": "5d06c623-90e3-4f58-b37b-b732ad554cf1",
   "metadata": {},
   "outputs": [
    {
     "name": "stdout",
     "output_type": "stream",
     "text": [
      "Model: LinearRegression\n",
      "Mean Squared Error (MSE): 31.2221\n",
      "Root Mean Squared Error (RMSE): 5.5877\n",
      "Mean Absolute Error (MAE): 4.4958\n",
      "R-squared (R²): 0.5101\n",
      "Accuracy: 83.07 %.\n",
      "==================================================\n",
      "Model: Ridge\n",
      "Mean Squared Error (MSE): 31.2221\n",
      "Root Mean Squared Error (RMSE): 5.5877\n",
      "Mean Absolute Error (MAE): 4.4958\n",
      "R-squared (R²): 0.5101\n",
      "Accuracy: 83.07 %.\n",
      "==================================================\n",
      "Model: Lasso\n",
      "Mean Squared Error (MSE): 31.3518\n",
      "Root Mean Squared Error (RMSE): 5.5993\n",
      "Mean Absolute Error (MAE): 4.5138\n",
      "R-squared (R²): 0.5080\n",
      "Accuracy: 83.0 %.\n",
      "==================================================\n",
      "Model: DecisionTreeRegressor\n",
      "Mean Squared Error (MSE): 39.7492\n",
      "Root Mean Squared Error (RMSE): 6.3047\n",
      "Mean Absolute Error (MAE): 3.9738\n",
      "R-squared (R²): 0.3763\n",
      "Accuracy: 85.03 %.\n",
      "==================================================\n",
      "Model: RandomForestRegressor\n",
      "Mean Squared Error (MSE): 19.3921\n",
      "Root Mean Squared Error (RMSE): 4.4036\n",
      "Mean Absolute Error (MAE): 3.2209\n",
      "R-squared (R²): 0.6957\n",
      "Accuracy: 87.87 %.\n",
      "==================================================\n",
      "Model: GradientBoostingRegressor\n",
      "Mean Squared Error (MSE): 27.3800\n",
      "Root Mean Squared Error (RMSE): 5.2326\n",
      "Mean Absolute Error (MAE): 4.0844\n",
      "R-squared (R²): 0.5704\n",
      "Accuracy: 84.62 %.\n",
      "==================================================\n",
      "Model: XGBRegressor\n",
      "Mean Squared Error (MSE): 24.3541\n",
      "Root Mean Squared Error (RMSE): 4.9350\n",
      "Mean Absolute Error (MAE): 3.7800\n",
      "R-squared (R²): 0.6179\n",
      "Accuracy: 85.76 %.\n",
      "==================================================\n",
      "Model: SVR\n",
      "Mean Squared Error (MSE): 33.3929\n",
      "Root Mean Squared Error (RMSE): 5.7787\n",
      "Mean Absolute Error (MAE): 4.6220\n",
      "R-squared (R²): 0.4760\n",
      "Accuracy: 82.59 %.\n",
      "==================================================\n",
      "Model: MLPRegressor\n",
      "Mean Squared Error (MSE): 35.4605\n",
      "Root Mean Squared Error (RMSE): 5.9549\n",
      "Mean Absolute Error (MAE): 4.7902\n",
      "R-squared (R²): 0.4436\n",
      "Accuracy: 81.96 %.\n",
      "==================================================\n",
      "Model: KNeighborsRegressor\n",
      "Mean Squared Error (MSE): 28.2443\n",
      "Root Mean Squared Error (RMSE): 5.3145\n",
      "Mean Absolute Error (MAE): 3.9285\n",
      "R-squared (R²): 0.5568\n",
      "Accuracy: 85.2 %.\n",
      "==================================================\n"
     ]
    }
   ],
   "source": [
    "X_train, X_test, y_train, y_test = train_test_split(X, y, test_size=0.2, random_state=42)\n",
    "\n",
    "def evaluate_model(model, X_test, y_test):\n",
    "    y_pred = model.predict(X_test)\n",
    "    \n",
    "    mse = mean_squared_error(y_test, y_pred)\n",
    "    rmse = np.sqrt(mse)\n",
    "    mae = mean_absolute_error(y_test, y_pred)\n",
    "    r2 = r2_score(y_test, y_pred)\n",
    "    mape = 100 * (mae / y_test)\n",
    "    accuracy = 100 - np.mean(mape)\n",
    "    \n",
    "    print(f\"Model: {type(model).__name__}\")\n",
    "    print(f\"Mean Squared Error (MSE): {mse:.4f}\")\n",
    "    print(f\"Root Mean Squared Error (RMSE): {rmse:.4f}\")\n",
    "    print(f\"Mean Absolute Error (MAE): {mae:.4f}\")\n",
    "    print(f\"R-squared (R²): {r2:.4f}\")\n",
    "    print('Accuracy:', round(accuracy, 2), '%.')\n",
    "    print(\"=\"*50)\n",
    "\n",
    "\n",
    "models = [\n",
    "    LinearRegression(),\n",
    "    Ridge(),\n",
    "    Lasso(),\n",
    "    DecisionTreeRegressor(),\n",
    "    RandomForestRegressor(n_estimators=100),\n",
    "    GradientBoostingRegressor(n_estimators=100),\n",
    "    XGBRegressor(),\n",
    "    SVR(),\n",
    "    MLPRegressor(hidden_layer_sizes=(100, 100), max_iter=500),\n",
    "    KNeighborsRegressor(n_neighbors=5)\n",
    "]\n",
    "\n",
    "for model in models:\n",
    "    model.fit(X_train, y_train)\n",
    "    evaluate_model(model, X_test, y_test)"
   ]
  },
  {
   "cell_type": "code",
   "execution_count": null,
   "id": "5fcbc446-6a00-43b7-9efc-9d35f7ea51ac",
   "metadata": {},
   "outputs": [],
   "source": [
    "myTemp = [26.5, 55, 13.2, 1010, 70, 270, 10.20, 200, 260]\n",
    "\n",
    "# # Convert to a NumPy array and reshape to (1, 9)\n",
    "# myTemp_reshaped = np.array(myTemp).reshape(1, -1)\n",
    "\n",
    "# # Now myTemp_reshaped has the shape (1, 9)\n",
    "# print(myTemp_reshaped.shape) \n",
    "\n",
    "myTemp_df = pd.DataFrame([myTemp], columns=[f'feature_{i}' for i in range(9)])\n",
    "\n",
    "# Now myTemp_df has the shape (1, 9)\n",
    "print(myTemp_df.shape)  # Output: (1, 9)\n",
    "\n",
    "from sklearn.preprocessing import StandardScaler\n",
    "\n",
    "scaler = StandardScaler()\n",
    "# Assuming scaler was fitted on the training data\n",
    "myTemp_scaled = scaler.fit_transform(myTemp_df)\n",
    "\n",
    "# Now pass the scaled data to the model\n",
    "predictions = rf.predict(myTemp_scaled)\n"
   ]
  },
  {
   "cell_type": "code",
   "execution_count": null,
   "id": "3b0fd75d-5802-4851-814c-4eced9dfd466",
   "metadata": {},
   "outputs": [],
   "source": [
    "column = df['wind_gust(m/s)']\n",
    "print(f'The minimum value of soil moisture is {column.min()}')\n",
    "print(f'The maximum value of soil moisture is {column.max()}')\n",
    "print(f'The average value of soil moisture is {column.mean()}')\n",
    "print(f'The median value of soil moisture is {column.median()}')"
   ]
  },
  {
   "cell_type": "code",
   "execution_count": null,
   "id": "4923f1d4-4704-408f-ab65-28d6f97ee4f0",
   "metadata": {},
   "outputs": [],
   "source": [
    "print(predictions)"
   ]
  },
  {
   "cell_type": "code",
   "execution_count": null,
   "id": "fecd073a-aa7b-4c81-9603-144ca2509abe",
   "metadata": {},
   "outputs": [],
   "source": [
    "df_sorted = df.sort_values(by='rain (mm)', ascending=False)"
   ]
  },
  {
   "cell_type": "code",
   "execution_count": null,
   "id": "9cd39e64-9a9f-4bfb-9635-c63eb2d5829d",
   "metadata": {},
   "outputs": [],
   "source": [
    "df_sorted.head(20)"
   ]
  },
  {
   "cell_type": "code",
   "execution_count": null,
   "id": "f46fad1f-769f-47d3-b875-b032e432d93e",
   "metadata": {},
   "outputs": [],
   "source": [
    "df.to_csv('WaTime_Dataset.csv', index=False)"
   ]
  },
  {
   "cell_type": "code",
   "execution_count": null,
   "id": "616496f4-14c0-4690-b265-a99232f78430",
   "metadata": {},
   "outputs": [],
   "source": [
    "df_filtered = df[df['rain (mm)'] >=1]\n",
    "\n",
    "df_filtered.head(5000)"
   ]
  },
  {
   "cell_type": "code",
   "execution_count": null,
   "id": "09a5e670-304f-4415-9901-49fcaa16d679",
   "metadata": {},
   "outputs": [],
   "source": []
  }
 ],
 "metadata": {
  "kernelspec": {
   "display_name": "Python 3 (ipykernel)",
   "language": "python",
   "name": "python3"
  },
  "language_info": {
   "codemirror_mode": {
    "name": "ipython",
    "version": 3
   },
   "file_extension": ".py",
   "mimetype": "text/x-python",
   "name": "python",
   "nbconvert_exporter": "python",
   "pygments_lexer": "ipython3",
   "version": "3.11.5"
  }
 },
 "nbformat": 4,
 "nbformat_minor": 5
}
